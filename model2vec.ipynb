{
 "cells": [
  {
   "cell_type": "code",
   "execution_count": 1,
   "metadata": {},
   "outputs": [],
   "source": [
    "import numpy as np\n",
    "import pandas as pd\n"
   ]
  },
  {
   "cell_type": "code",
   "execution_count": 2,
   "metadata": {},
   "outputs": [
    {
     "name": "stdout",
     "output_type": "stream",
     "text": [
      "Requirement already satisfied: gensim in /Users/kobby/opt/anaconda3/lib/python3.9/site-packages (4.1.2)\n",
      "Requirement already satisfied: scipy>=0.18.1 in /Users/kobby/opt/anaconda3/lib/python3.9/site-packages (from gensim) (1.10.1)\n",
      "Requirement already satisfied: numpy>=1.17.0 in /Users/kobby/opt/anaconda3/lib/python3.9/site-packages (from gensim) (1.23.4)\n",
      "Requirement already satisfied: smart-open>=1.8.1 in /Users/kobby/opt/anaconda3/lib/python3.9/site-packages (from gensim) (5.1.0)\n"
     ]
    }
   ],
   "source": [
    "!pip install gensim"
   ]
  },
  {
   "cell_type": "code",
   "execution_count": 3,
   "metadata": {},
   "outputs": [],
   "source": [
    "import os\n",
    "import gensim"
   ]
  },
  {
   "cell_type": "code",
   "execution_count": 30,
   "metadata": {},
   "outputs": [
    {
     "name": "stdout",
     "output_type": "stream",
     "text": [
      "Number of lines of code: 4944896\n",
      "Number of tokens (words): 14923711\n"
     ]
    }
   ],
   "source": [
    "import os\n",
    "from gensim.utils import simple_preprocess\n",
    "import nltk \n",
    "import string\n",
    "from nltk.tokenize import RegexpTokenizer\n",
    "from nltk import sent_tokenize\n",
    "from gensim.utils import simple_preprocess\n",
    "# Initialize an empty list to store the tokenized lines\n",
    "code = []\n",
    "\n",
    "# Define the output file path\n",
    "output_file = os.path.join(os.getcwd(), \"python_filesmine.txt\")\n",
    "\n",
    "# Open the output file in read mode\n",
    "with open(output_file, 'r') as f:\n",
    "    # Read the entire content of the file into a string\n",
    "    corpus = f.read()\n",
    "    \n",
    "    # Split the string into lines\n",
    "    raw_lines = corpus.splitlines()\n",
    "    \n",
    "    # For each line, tokenize it into words \n",
    "    for line in raw_lines:\n",
    "        code.append(simple_preprocess(line))\n",
    "\n",
    "# Print the number of lines of code, which is the length of the 'code' list\n",
    "print(f'Number of lines of code: {len(code)}')\n",
    "\n",
    "# Print the number of tokens, which is the sum of the lengths of the lists in the 'code' list\n",
    "print(f'Number of tokens (words): {len([token for sent in code for token in sent])}')\n"
   ]
  },
  {
   "cell_type": "code",
   "execution_count": 7,
   "metadata": {},
   "outputs": [
    {
     "name": "stdout",
     "output_type": "stream",
     "text": [
      "Requirement already satisfied: nltk in /Users/kobby/opt/anaconda3/lib/python3.9/site-packages (3.7)\n",
      "Requirement already satisfied: regex>=2021.8.3 in /Users/kobby/opt/anaconda3/lib/python3.9/site-packages (from nltk) (2022.3.15)\n",
      "Requirement already satisfied: tqdm in /Users/kobby/opt/anaconda3/lib/python3.9/site-packages (from nltk) (4.64.0)\n",
      "Requirement already satisfied: click in /Users/kobby/opt/anaconda3/lib/python3.9/site-packages (from nltk) (8.0.4)\n",
      "Requirement already satisfied: joblib in /Users/kobby/opt/anaconda3/lib/python3.9/site-packages (from nltk) (1.2.0)\n"
     ]
    }
   ],
   "source": [
    "!pip install nltk"
   ]
  },
  {
   "cell_type": "code",
   "execution_count": 8,
   "metadata": {},
   "outputs": [
    {
     "data": {
      "text/plain": [
       "['users',\n",
       " 'kobby',\n",
       " 'downloads',\n",
       " 'cs',\n",
       " 'project',\n",
       " 'main',\n",
       " 'repos',\n",
       " 'flask',\n",
       " 'tests',\n",
       " 'test_basic',\n",
       " 'py']"
      ]
     },
     "execution_count": 8,
     "metadata": {},
     "output_type": "execute_result"
    }
   ],
   "source": [
    "#testing the tokenlist\n",
    "code[0]"
   ]
  },
  {
   "cell_type": "code",
   "execution_count": 9,
   "metadata": {},
   "outputs": [],
   "source": [
    "model = gensim.models.Word2Vec(\n",
    "    window=10,\n",
    "    min_count=2\n",
    ")"
   ]
  },
  {
   "cell_type": "code",
   "execution_count": 10,
   "metadata": {},
   "outputs": [],
   "source": [
    "model.build_vocab(code)"
   ]
  },
  {
   "cell_type": "code",
   "execution_count": 11,
   "metadata": {},
   "outputs": [
    {
     "data": {
      "text/plain": [
       "(63521340, 74618555)"
      ]
     },
     "execution_count": 11,
     "metadata": {},
     "output_type": "execute_result"
    }
   ],
   "source": [
    "model.train(code, total_examples=model.corpus_count, epochs=model.epochs)"
   ]
  },
  {
   "cell_type": "code",
   "execution_count": 14,
   "metadata": {},
   "outputs": [
    {
     "data": {
      "text/plain": [
       "[('elif', 0.7415676116943359),\n",
       " ('when', 0.6325085759162903),\n",
       " ('thus', 0.6196663975715637),\n",
       " ('whether', 0.6076998114585876),\n",
       " ('while', 0.5960642099380493),\n",
       " ('though', 0.5828403830528259),\n",
       " ('actually', 0.5809800028800964),\n",
       " ('still', 0.5773044228553772),\n",
       " ('unless', 0.5726150870323181),\n",
       " ('and', 0.5717328190803528)]"
      ]
     },
     "execution_count": 14,
     "metadata": {},
     "output_type": "execute_result"
    }
   ],
   "source": [
    "model.wv.most_similar('if')"
   ]
  },
  {
   "cell_type": "code",
   "execution_count": 22,
   "metadata": {},
   "outputs": [
    {
     "data": {
      "text/plain": [
       "[('without', 0.6179448366165161),\n",
       " ('across', 0.611642599105835),\n",
       " ('over', 0.5778718590736389),\n",
       " ('of', 0.5767502188682556),\n",
       " ('below', 0.572288453578949),\n",
       " ('also', 0.567664384841919),\n",
       " ('case', 0.5664610862731934),\n",
       " ('above', 0.56418377161026),\n",
       " ('against', 0.5604302883148193),\n",
       " ('way', 0.5585281252861023)]"
      ]
     },
     "execution_count": 22,
     "metadata": {},
     "output_type": "execute_result"
    }
   ],
   "source": [
    "model.wv.most_similar('for')"
   ]
  },
  {
   "cell_type": "code",
   "execution_count": 23,
   "metadata": {},
   "outputs": [
    {
     "data": {
      "text/plain": [
       "[('return', 0.5408477187156677),\n",
       " ('super', 0.5175575017929077),\n",
       " ('setter', 0.43202531337738037),\n",
       " ('pop', 0.42387181520462036),\n",
       " ('yield', 0.42198339104652405),\n",
       " ('optional', 0.41968441009521484),\n",
       " ('shape_bounds_a', 0.4061289131641388),\n",
       " ('initial', 0.3853142261505127),\n",
       " ('getattr', 0.3797995448112488),\n",
       " ('self', 0.37084782123565674)]"
      ]
     },
     "execution_count": 23,
     "metadata": {},
     "output_type": "execute_result"
    }
   ],
   "source": [
    "model.wv.most_similar('def')"
   ]
  },
  {
   "cell_type": "code",
   "execution_count": 15,
   "metadata": {},
   "outputs": [
    {
     "data": {
      "text/plain": [
       "'for'"
      ]
     },
     "execution_count": 15,
     "metadata": {},
     "output_type": "execute_result"
    }
   ],
   "source": [
    "model.wv.doesnt_match(['if','else', 'elif', 'for'])"
   ]
  },
  {
   "cell_type": "code",
   "execution_count": 16,
   "metadata": {},
   "outputs": [
    {
     "data": {
      "text/plain": [
       "'range'"
      ]
     },
     "execution_count": 16,
     "metadata": {},
     "output_type": "execute_result"
    }
   ],
   "source": [
    "model.wv.doesnt_match(['string', 'int', 'range', 'float'])"
   ]
  },
  {
   "cell_type": "code",
   "execution_count": 17,
   "metadata": {},
   "outputs": [
    {
     "data": {
      "text/plain": [
       "array([ 3.1290078 , -0.69010127,  0.88464594,  0.9230577 , -0.5477238 ,\n",
       "        1.69542   ,  2.3256218 , -1.4137678 ,  1.1235521 ,  0.12419695,\n",
       "       -0.15673822, -1.0808479 ,  0.43222928, -1.0495001 , -1.1585789 ,\n",
       "        1.7225133 ,  0.04567652,  0.27408314,  1.0512477 ,  0.20484062,\n",
       "       -0.95843804,  0.2401252 ,  1.5659314 ,  0.6210434 , -2.145518  ,\n",
       "        0.26359424, -0.5561922 , -0.1671209 ,  0.42646626,  1.3187692 ,\n",
       "       -1.506638  ,  1.1759604 ,  1.2201853 ,  0.09032805,  2.2177927 ,\n",
       "        0.33995628,  0.9797977 ,  1.3205597 , -0.02191201, -0.12848367,\n",
       "       -0.7203907 ,  0.63988596, -2.3385577 , -1.1152239 , -0.20977649,\n",
       "        0.5403929 ,  0.24101152, -0.06713174,  1.3039874 , -0.8399474 ,\n",
       "       -0.10814104,  1.3285528 ,  0.08678786,  0.44505745,  1.1817079 ,\n",
       "       -2.0967348 , -0.31495854,  1.1396173 , -1.6362244 ,  1.8615977 ,\n",
       "        0.67835623, -0.67843217,  0.0367613 , -0.20061369, -0.87837446,\n",
       "       -0.2585242 ,  1.025226  ,  0.17242214, -0.46285093, -0.72416055,\n",
       "        1.1549951 ,  2.147652  , -0.9391443 , -1.2068222 ,  0.5340959 ,\n",
       "       -2.390784  , -0.8504265 , -0.13603751,  0.7633769 , -1.0044774 ,\n",
       "        1.2203697 ,  0.48116162,  1.2440209 ,  0.518295  ,  0.72036046,\n",
       "       -0.01098258, -2.28477   ,  1.5286083 , -0.538018  , -3.840386  ,\n",
       "        0.89865816,  0.55249685,  0.398288  , -2.2593083 , -2.1940765 ,\n",
       "        0.20680018, -0.8809954 , -0.01235464,  0.195907  ,  2.1893075 ],\n",
       "      dtype=float32)"
      ]
     },
     "execution_count": 17,
     "metadata": {},
     "output_type": "execute_result"
    }
   ],
   "source": [
    "\n",
    "model.wv['return']"
   ]
  },
  {
   "cell_type": "code",
   "execution_count": 18,
   "metadata": {},
   "outputs": [
    {
     "data": {
      "text/plain": [
       "0.12379393"
      ]
     },
     "execution_count": 18,
     "metadata": {},
     "output_type": "execute_result"
    }
   ],
   "source": [
    "model.wv.similarity('skip','return')"
   ]
  },
  {
   "cell_type": "code",
   "execution_count": 19,
   "metadata": {},
   "outputs": [
    {
     "data": {
      "text/plain": [
       "0.96853614"
      ]
     },
     "execution_count": 19,
     "metadata": {},
     "output_type": "execute_result"
    }
   ],
   "source": [
    "model.wv.similarity('true','false')"
   ]
  },
  {
   "cell_type": "code",
   "execution_count": 20,
   "metadata": {},
   "outputs": [
    {
     "data": {
      "text/plain": [
       "0.10103921"
      ]
     },
     "execution_count": 20,
     "metadata": {},
     "output_type": "execute_result"
    }
   ],
   "source": [
    "model.wv.similarity('import', 'as')"
   ]
  },
  {
   "cell_type": "code",
   "execution_count": 21,
   "metadata": {},
   "outputs": [
    {
     "data": {
      "text/plain": [
       "[('loop', 0.7700457572937012),\n",
       " ('early', 0.5623106956481934),\n",
       " ('thread', 0.5357546210289001),\n",
       " ('event', 0.5256621837615967),\n",
       " ('task', 0.4926742613315582),\n",
       " ('loops', 0.48984187841415405),\n",
       " ('continue', 0.4805727005004883),\n",
       " ('iteration', 0.4745464622974396),\n",
       " ('process', 0.47059905529022217),\n",
       " ('mouse', 0.46884122490882874)]"
      ]
     },
     "execution_count": 21,
     "metadata": {},
     "output_type": "execute_result"
    }
   ],
   "source": [
    "model.wv.most_similar(model.wv['loop'] - model.wv['repeat'] )"
   ]
  },
  {
   "cell_type": "code",
   "execution_count": 32,
   "metadata": {},
   "outputs": [
    {
     "data": {
      "text/plain": [
       "['self',\n",
       " 'the',\n",
       " 'if',\n",
       " 'def',\n",
       " 'in',\n",
       " 'to',\n",
       " 'is',\n",
       " 'return',\n",
       " 'none',\n",
       " 'for',\n",
       " 'np',\n",
       " 'of',\n",
       " 'import',\n",
       " 'not',\n",
       " 'name']"
      ]
     },
     "execution_count": 32,
     "metadata": {},
     "output_type": "execute_result"
    }
   ],
   "source": [
    "y = model.wv.index_to_key\n",
    "y[:15] #first 15 words in the model"
   ]
  },
  {
   "cell_type": "code",
   "execution_count": 33,
   "metadata": {},
   "outputs": [
    {
     "name": "stdout",
     "output_type": "stream",
     "text": [
      "50 most common identifiers: ['self', 'the', 'if', 'def', 'in', 'to', 'is', 'return', 'none', 'for', 'np', 'of', 'import', 'not', 'name', 'from', 'and', 'true', 'with', 'assert', 'data', 'false', 'result', 'be', 'as', 'salt', 'ret', 'or', 'dtype', 'path', 'value', 'this', 'test', 'array', 'get', 'else', 'project', 'id', 'class', 'pytest', 'that', 'expected', 'key', 'user', 'str', 'sentry', 'type', 'list', 'index', 'are']\n",
      "Similarity between \"self\" and \"none\": 0.6121698617935181\n",
      "Similarity between \"the\" and \"in\": 0.502669095993042\n",
      "Similarity between \"the\" and \"to\": 0.7286131381988525\n",
      "Similarity between \"the\" and \"is\": 0.5209001302719116\n",
      "Similarity between \"the\" and \"for\": 0.5051462054252625\n",
      "Similarity between \"the\" and \"of\": 0.7004514336585999\n",
      "Similarity between \"the\" and \"from\": 0.5256322026252747\n",
      "Similarity between \"the\" and \"and\": 0.6921787261962891\n",
      "Similarity between \"the\" and \"with\": 0.558583676815033\n",
      "Similarity between \"the\" and \"be\": 0.5364933013916016\n",
      "Similarity between \"the\" and \"as\": 0.5746643543243408\n",
      "Similarity between \"the\" and \"this\": 0.7913817167282104\n",
      "Similarity between \"the\" and \"test\": 0.5089545249938965\n",
      "Similarity between \"the\" and \"that\": 0.7337298393249512\n",
      "Similarity between \"the\" and \"are\": 0.5372071266174316\n",
      "Similarity between \"if\" and \"none\": 0.5169590711593628\n",
      "Similarity between \"if\" and \"not\": 0.5237752199172974\n",
      "Similarity between \"if\" and \"and\": 0.571732759475708\n",
      "Similarity between \"if\" and \"or\": 0.554972767829895\n",
      "Similarity between \"def\" and \"return\": 0.540847659111023\n",
      "Similarity between \"in\" and \"of\": 0.535378098487854\n",
      "Similarity between \"in\" and \"and\": 0.5596997141838074\n",
      "Similarity between \"to\" and \"for\": 0.5376741290092468\n",
      "Similarity between \"to\" and \"of\": 0.6608994007110596\n",
      "Similarity between \"to\" and \"from\": 0.512129545211792\n",
      "Similarity between \"to\" and \"and\": 0.6310248374938965\n",
      "Similarity between \"to\" and \"with\": 0.555385947227478\n",
      "Similarity between \"to\" and \"as\": 0.5039354562759399\n",
      "Similarity between \"to\" and \"this\": 0.5928936004638672\n",
      "Similarity between \"to\" and \"that\": 0.6345204710960388\n",
      "Similarity between \"is\" and \"be\": 0.541270911693573\n",
      "Similarity between \"is\" and \"are\": 0.7037904858589172\n",
      "Similarity between \"return\" and \"result\": 0.6398628950119019\n",
      "Similarity between \"return\" and \"get\": 0.5376396775245667\n",
      "Similarity between \"none\" and \"true\": 0.505709707736969\n",
      "Similarity between \"none\" and \"false\": 0.5609829425811768\n",
      "Similarity between \"for\" and \"of\": 0.5767502188682556\n",
      "Similarity between \"for\" and \"and\": 0.5216314196586609\n",
      "Similarity between \"of\" and \"from\": 0.5775325298309326\n",
      "Similarity between \"of\" and \"and\": 0.6202826499938965\n",
      "Similarity between \"of\" and \"with\": 0.5446139574050903\n",
      "Similarity between \"of\" and \"this\": 0.568953275680542\n",
      "Similarity between \"of\" and \"that\": 0.6069650053977966\n",
      "Similarity between \"of\" and \"are\": 0.5380603671073914\n",
      "Similarity between \"not\" and \"and\": 0.5255320072174072\n",
      "Similarity between \"not\" and \"or\": 0.5083625316619873\n",
      "Similarity between \"name\" and \"id\": 0.5454093217849731\n",
      "Similarity between \"name\" and \"key\": 0.50890052318573\n",
      "Similarity between \"from\" and \"as\": 0.508736252784729\n",
      "Similarity between \"and\" and \"with\": 0.5144014358520508\n",
      "Similarity between \"and\" and \"or\": 0.7252896428108215\n",
      "Similarity between \"and\" and \"this\": 0.6045961380004883\n",
      "Similarity between \"and\" and \"that\": 0.6791613698005676\n",
      "Similarity between \"true\" and \"false\": 0.9685361385345459\n",
      "Similarity between \"data\" and \"result\": 0.5978421568870544\n",
      "Similarity between \"data\" and \"value\": 0.5455498695373535\n",
      "Similarity between \"result\" and \"ret\": 0.5231959223747253\n",
      "Similarity between \"result\" and \"expected\": 0.5644056797027588\n",
      "Similarity between \"be\" and \"are\": 0.5176973938941956\n",
      "Similarity between \"as\" and \"that\": 0.5688645839691162\n",
      "Similarity between \"dtype\" and \"array\": 0.5425052642822266\n",
      "Similarity between \"value\" and \"key\": 0.5988463163375854\n",
      "Similarity between \"value\" and \"type\": 0.5516855716705322\n",
      "Similarity between \"this\" and \"that\": 0.784492015838623\n",
      "Similarity between \"array\" and \"index\": 0.5016379952430725\n",
      "Similarity between \"expected\" and \"index\": 0.5079249739646912\n"
     ]
    }
   ],
   "source": [
    "from collections import Counter\n",
    "from itertools import combinations\n",
    "\n",
    "#Count the frequency of identifier names in Python\n",
    "identifier_freq = Counter(token for sent in code for token in sent)\n",
    "\n",
    "#Find the 50 most common identifiers in Python\n",
    "most_common_identifiers = [word for word, freq in identifier_freq.most_common(50)]\n",
    "print('50 most common identifiers:', most_common_identifiers)\n",
    "\n",
    "#Calculate the similarity between each pair of the 50 most common identifiers\n",
    "for id1, id2 in combinations(most_common_identifiers, 2):\n",
    "    if id1 in model.wv and id2 in model.wv:\n",
    "        similarity = model.wv.similarity(id1, id2)\n",
    "        if similarity > 0.5:\n",
    "            print(f'Similarity between \"{id1}\" and \"{id2}\": {similarity}')\n"
   ]
  }
 ],
 "metadata": {
  "kernelspec": {
   "display_name": "Python 3",
   "language": "python",
   "name": "python3"
  },
  "language_info": {
   "codemirror_mode": {
    "name": "ipython",
    "version": 3
   },
   "file_extension": ".py",
   "mimetype": "text/x-python",
   "name": "python",
   "nbconvert_exporter": "python",
   "pygments_lexer": "ipython3",
   "version": "3.10.7"
  },
  "orig_nbformat": 4
 },
 "nbformat": 4,
 "nbformat_minor": 2
}
